{
 "cells": [
  {
   "cell_type": "markdown",
   "id": "ab87d41d-71f5-49f6-8c41-955fa7fcc466",
   "metadata": {},
   "source": [
    "# Lab 1"
   ]
  },
  {
   "cell_type": "markdown",
   "id": "867d7016-fb8c-43fe-a0f2-ff666f500bf0",
   "metadata": {},
   "source": [
    "In this assignment, you are going to use Apache Spark to explore the page views of Wikimedia projects. As a dataset, we use the page view statistics generated between 0-1am on Jan 1, 2016. Each line of the dataset, delimited by a white space and contains the statistics for one Wikimedia page. The schema looks as follows:\n",
    "- Project code: The project identifier for each page.\n",
    "- Page title: A string containing the title of the page.\n",
    "- Page hits: Number of requests on the specific hour.\n",
    "- Page size: Size of the page."
   ]
  },
  {
   "cell_type": "markdown",
   "id": "95107f0d-34e2-4536-bd43-bec5a3c9bed9",
   "metadata": {},
   "source": [
    "### Task 1 - Spark"
   ]
  },
  {
   "cell_type": "markdown",
   "id": "2c503f05-a03a-466c-b82e-50ef82d2e423",
   "metadata": {},
   "source": [
    "First, create a new Spark Session and load the dataset as below:"
   ]
  },
  {
   "cell_type": "code",
   "execution_count": 1,
   "id": "ee87a6dd-914c-48aa-be39-3445e123d971",
   "metadata": {},
   "outputs": [],
   "source": [
    "import util.control.Breaks._\n",
    "import org.apache.spark.sql.functions.col\n",
    "import org.apache.spark.rdd.RDD"
   ]
  },
  {
   "cell_type": "code",
   "execution_count": 2,
   "id": "7e600b7d-f09c-4e3c-8643-ec51eb58c931",
   "metadata": {},
   "outputs": [
    {
     "data": {
      "text/plain": [
       "pagecounts = pagecounts.out MapPartitionsRDD[1] at textFile at <console>:32\n"
      ]
     },
     "metadata": {},
     "output_type": "display_data",
     "source": "user"
    },
    {
     "data": {
      "text/plain": [
       "pagecounts.out MapPartitionsRDD[1] at textFile at <console>:32"
      ]
     },
     "execution_count": 2,
     "metadata": {},
     "output_type": "execute_result"
    }
   ],
   "source": [
    "val pagecounts = sc.textFile(\"pagecounts.out\")"
   ]
  },
  {
   "cell_type": "markdown",
   "id": "a8ae6be7-8ce4-48b6-ba98-75d47974e5fb",
   "metadata": {},
   "source": [
    "1. Create a case class called Log using the four field names of the dataset."
   ]
  },
  {
   "cell_type": "code",
   "execution_count": 3,
   "id": "6840a0bb-c70d-4937-9aca-075576e65072",
   "metadata": {},
   "outputs": [
    {
     "data": {
      "text/plain": [
       "defined class Log\n"
      ]
     },
     "metadata": {},
     "output_type": "display_data",
     "source": "user"
    }
   ],
   "source": [
    "case class Log(code: String, title: String, hits: Long, size: Long)   "
   ]
  },
  {
   "cell_type": "markdown",
   "id": "95d9d4d6-455a-4169-9148-709a95d45150",
   "metadata": {},
   "source": [
    "2. Create a function that takes a string, split it by white space and converts it into a log object."
   ]
  },
  {
   "cell_type": "code",
   "execution_count": 4,
   "id": "fd0f3e1b-9781-49be-afb1-8e1aa5e720db",
   "metadata": {},
   "outputs": [
    {
     "data": {
      "text/plain": [
       "convert_string: (s: String)Log\n"
      ]
     },
     "metadata": {},
     "output_type": "display_data",
     "source": "user"
    }
   ],
   "source": [
    "def convert_string(s: String): Log = { \n",
    "\n",
    "    val s_split = s.split(\" +\")\n",
    "    if (s_split.count(_.length>=1) == 4){\n",
    "        return Log(s_split(0).toString, s_split(1).toString, s_split(2).toLong, s_split(3).toLong);\n",
    "        } \n",
    "    else {\n",
    "        return Log(s_split(0).toString, \"\", s_split(1).toLong, s_split(2).toLong);\n",
    "    }\n",
    "}"
   ]
  },
  {
   "cell_type": "markdown",
   "id": "c71cc6ed-0861-4e47-a54b-17441bd4f2d7",
   "metadata": {},
   "source": [
    "3. Create a function that takes an RDD[String] and returns an RDD[Log]."
   ]
  },
  {
   "cell_type": "code",
   "execution_count": 5,
   "id": "c6d4d407-16a2-468b-8a5c-12b67f670d84",
   "metadata": {},
   "outputs": [
    {
     "data": {
      "text/plain": [
       "convert_rdd: (rdd: org.apache.spark.rdd.RDD[String])org.apache.spark.rdd.RDD[Log]\n"
      ]
     },
     "metadata": {},
     "output_type": "display_data",
     "source": "user"
    }
   ],
   "source": [
    "def convert_rdd(rdd: RDD[String]): RDD[Log] = {\n",
    "    return rdd.map(convert_string)\n",
    "    }"
   ]
  },
  {
   "cell_type": "code",
   "execution_count": 6,
   "id": "6a110564-45b5-454d-8132-862239baeaec",
   "metadata": {},
   "outputs": [
    {
     "data": {
      "text/plain": [
       "rdd_pagecounts = MapPartitionsRDD[2] at map at <console>:35\n"
      ]
     },
     "metadata": {},
     "output_type": "display_data",
     "source": "user"
    },
    {
     "data": {
      "text/plain": [
       "MapPartitionsRDD[2] at map at <console>:35"
      ]
     },
     "execution_count": 6,
     "metadata": {},
     "output_type": "execute_result"
    }
   ],
   "source": [
    "val rdd_pagecounts = convert_rdd(pagecounts)"
   ]
  },
  {
   "cell_type": "markdown",
   "id": "4d50c5f5-e147-4369-bb4f-1744cfe27e3e",
   "metadata": {},
   "source": [
    "In the remaining sections of this exercise, you have to make use of the RDD[Log] that you have created. For each of the questions below, implement a Scala function that takes as input an RDD[Log] and prints the requested values. You must include all of those results in your report.\n",
    "1. Retrieve the first 15 records and print out the result."
   ]
  },
  {
   "cell_type": "code",
   "execution_count": 7,
   "id": "677e6164-971f-46cb-bf08-003b6b72b4f9",
   "metadata": {},
   "outputs": [
    {
     "name": "stdout",
     "output_type": "stream",
     "text": [
      "Log(aa,271_a.C,1,4675)\n",
      "Log(aa,Category:User_th,1,4770)\n",
      "Log(aa,Chiron_Elias_Krase,1,4694)\n",
      "Log(aa,Dassault_rafaele,2,9372)\n",
      "Log(aa,E.Desv,1,4662)\n",
      "Log(aa,File:Wiktionary-logo-en.png,1,10752)\n",
      "Log(aa,Indonesian_Wikipedia,1,4679)\n",
      "Log(aa,Main_Page,5,266946)\n",
      "Log(aa,Requests_for_new_languages/Wikipedia_Banyumasan,1,4733)\n",
      "Log(aa,Special:Contributions/203.144.160.245,1,5812)\n",
      "Log(aa,Special:Contributions/5.232.61.79,1,5805)\n",
      "Log(aa,Special:Contributions/Ayarportugal,1,5808)\n",
      "Log(aa,Special:Contributions/Born2bgratis,1,5812)\n",
      "Log(aa,Special:ListFiles/Betacommand,1,5035)\n",
      "Log(aa,Special:ListFiles/Bohdan_p,1,5036)\n"
     ]
    }
   ],
   "source": [
    "for (x <- rdd_pagecounts.take(15)) {\n",
    "   println(x)\n",
    "}"
   ]
  },
  {
   "cell_type": "markdown",
   "id": "8d647ea2-3d8b-46a7-a5ec-2e7e8cc8bb49",
   "metadata": {},
   "source": [
    "2. Determine the number of records the dataset has in total."
   ]
  },
  {
   "cell_type": "code",
   "execution_count": 8,
   "id": "7ddb435c-4f1a-42cf-8e7a-4032db09f09b",
   "metadata": {},
   "outputs": [
    {
     "data": {
      "text/plain": [
       "page_total = 3324129\n"
      ]
     },
     "metadata": {},
     "output_type": "display_data",
     "source": "user"
    },
    {
     "data": {
      "text/plain": [
       "3324129"
      ]
     },
     "execution_count": 8,
     "metadata": {},
     "output_type": "execute_result"
    }
   ],
   "source": [
    "val page_total = rdd_pagecounts.count()"
   ]
  },
  {
   "cell_type": "markdown",
   "id": "35a08e2d-1811-4beb-a8a5-adcf0f4a9a65",
   "metadata": {},
   "source": [
    "3. Compute the min, max, and average page size."
   ]
  },
  {
   "cell_type": "code",
   "execution_count": 9,
   "id": "2bc55a55-b302-4636-860e-dc8e17ab2b48",
   "metadata": {},
   "outputs": [
    {
     "data": {
      "text/plain": [
       "page_size = MapPartitionsRDD[3] at map at <console>:32\n",
       "page_size_min = 0\n",
       "page_size_max = 141180155987\n",
       "page_size_avg = 132239.5695744666\n"
      ]
     },
     "metadata": {},
     "output_type": "display_data",
     "source": "user"
    },
    {
     "data": {
      "text/plain": [
       "132239.5695744666"
      ]
     },
     "execution_count": 9,
     "metadata": {},
     "output_type": "execute_result"
    }
   ],
   "source": [
    "val page_size = rdd_pagecounts.map(x=>x.size)\n",
    "\n",
    "val page_size_min = page_size.min()\n",
    "val page_size_max = page_size.max()\n",
    "val page_size_avg = page_size.mean()"
   ]
  },
  {
   "cell_type": "markdown",
   "id": "9f0286b4-f420-4ec8-be84-ba7b91fe3473",
   "metadata": {},
   "source": [
    "4. Determine the record(s) with the largest page size. If multiple records have the same size, list all of them."
   ]
  },
  {
   "cell_type": "code",
   "execution_count": 10,
   "id": "c4722e1e-4d61-42df-bc9a-07cf7ae6c433",
   "metadata": {},
   "outputs": [
    {
     "data": {
      "text/plain": [
       "page_size_max_record = Array(Log(en.mw,en,5466346,141180155987))\n"
      ]
     },
     "metadata": {},
     "output_type": "display_data",
     "source": "user"
    },
    {
     "data": {
      "text/plain": [
       "Array(Log(en.mw,en,5466346,141180155987))"
      ]
     },
     "execution_count": 10,
     "metadata": {},
     "output_type": "execute_result"
    }
   ],
   "source": [
    "val page_size_max_record = rdd_pagecounts.filter(_.size == page_size_max).collect()"
   ]
  },
  {
   "cell_type": "markdown",
   "id": "dae0bb78-a8ff-40f2-a1df-e7f49a56b897",
   "metadata": {},
   "source": [
    "5. Determine the record with the largest page size again. But now, pick the most popular."
   ]
  },
  {
   "cell_type": "code",
   "execution_count": 11,
   "id": "fc45b7c9-4ed8-4c13-a121-9364dd0b027d",
   "metadata": {},
   "outputs": [
    {
     "data": {
      "text/plain": [
       "page_size_max_record_popular = Array(Log(en.mw,en,5466346,141180155987))\n"
      ]
     },
     "metadata": {},
     "output_type": "display_data",
     "source": "user"
    },
    {
     "data": {
      "text/plain": [
       "Array(Log(en.mw,en,5466346,141180155987))"
      ]
     },
     "execution_count": 11,
     "metadata": {},
     "output_type": "execute_result"
    }
   ],
   "source": [
    "val page_size_max_record_popular = rdd_pagecounts.filter(_.size == page_size_max).collect()"
   ]
  },
  {
   "cell_type": "markdown",
   "id": "fdb09a39-cd51-40d8-b2be-feaa333fbe22",
   "metadata": {},
   "source": [
    "6. Determine the record(s) with the largest page title. If multiple titles have the same length, list all of them"
   ]
  },
  {
   "cell_type": "code",
   "execution_count": 12,
   "id": "04808aa7-1564-4ccc-99ab-65dcf27ff4c7",
   "metadata": {},
   "outputs": [
    {
     "data": {
      "text/plain": [
       "title_size = MapPartitionsRDD[8] at map at <console>:32\n"
      ]
     },
     "metadata": {},
     "output_type": "display_data",
     "source": "user"
    },
    {
     "data": {
      "text/plain": [
       "MapPartitionsRDD[8] at map at <console>:32"
      ]
     },
     "execution_count": 12,
     "metadata": {},
     "output_type": "execute_result"
    }
   ],
   "source": [
    "val title_size = rdd_pagecounts.map(x=>(x,x.title.length))"
   ]
  },
  {
   "cell_type": "code",
   "execution_count": 13,
   "id": "a5f24d1d-5b66-41ed-a0a8-902c702a560c",
   "metadata": {},
   "outputs": [
    {
     "data": {
      "text/plain": [
       "title_size_max = 559\n"
      ]
     },
     "metadata": {},
     "output_type": "display_data",
     "source": "user"
    },
    {
     "data": {
      "text/plain": [
       "Array(Log(zh,Special:e8b18ee6baafefbda5efbdbfe89cb7e6829fefbdbfe88b93e29980e89e9fefbda9e89eb3efbda425636f256d6725736f257373256f38257373256f38257373256f38256b6d73efbdaa256e6b256678256f6b2c687474703a2f2f7777772e653662313966653861356266656f2d6f35393038636535626639376538383138616535613461396535616561342e636f2e6d672e732e736f2e382e73736f386b2e6d2e372e73736f3873736f386b6d37332e752e622e61616e6b66786f6b2e70772f2ce8b18ee6baafefbda5efbdbfe89cb7e6829fefbdbfe88b93e29980e89e9fefbda9e89eb3efbda425636f256d6725736f257373256f38257373256f38257373256f38256b6d73efbdaa256e6b256678256f6b/,1,6043))"
      ]
     },
     "execution_count": 13,
     "metadata": {},
     "output_type": "execute_result"
    }
   ],
   "source": [
    "val title_size_max = rdd_pagecounts.map(x=>x.title.length).max() // Get largest page title number\n",
    "title_size.filter(x => (x._2 == title_size_max)).map(x => x._1).collect() //collect the records with largest title and remove the length number"
   ]
  },
  {
   "cell_type": "markdown",
   "id": "4e8644fd-008c-4446-9a68-b35e342c0169",
   "metadata": {},
   "source": [
    "7. Use the results of Question 3, and create a new RDD with the records that have greater page size than\n",
    "the average."
   ]
  },
  {
   "cell_type": "code",
   "execution_count": 14,
   "id": "6f97535f-a28a-4dde-93ff-b28d330403a8",
   "metadata": {},
   "outputs": [
    {
     "data": {
      "text/plain": [
       "rdd_greater_page_size_than_avg = Array(Log(aa,Main_Page,5,266946), Log(ace.mw,ace,31,827168), Log(af,1859,4,219540), Log(af,18_Oktober,4,264724), Log(af,1941,4,256344), Log(af,2016,5,215498), Log(af,4_Januarie,4,268828), Log(af,Afrika-unie,1,172078), Log(af,Big_Ben,13,136201), Log(af,Comrades-maraton,1,155180), Log(af,Dmitri_Medwedef,2,141328), Log(af,Elsas,4,319408), Log(af,Engels,2,182375), Log(af,Erich_Fromm,4,215612), Log(af,Filosoof,2,134400), Log(af,GNTA,77,511277), Log(af,Gebruiker:Aliwal2012,2,359320), Log(af,Gebruiker:JCIV,2,268216), Log(af,Gebruiker:Morne,3,991701), Log(af,Gebruiker:Naudefj,3,730849), Log(af,Gebruiker:Voyageur,2,271872), Log(af,Gebruiker:Winstonza,1,526302), Log(af,Gebruikerbespreking:JCIV/Argief2015,2,164424), Log(af,Gebruikerbespreking:Morne,5,15...\n"
      ]
     },
     "metadata": {},
     "output_type": "display_data",
     "source": "user"
    },
    {
     "data": {
      "text/plain": [
       "Array(Log(aa,Main_Page,5,266946), Log(ace.mw,ace,31,827168), Log(af,1859,4,219540), Log(af,18_Oktober,4,264724), Log(af,1941,4,256344), Log(af,2016,5,215498), Log(af,4_Januarie,4,268828), Log(af,Afrika-unie,1,172078), Log(af,Big_Ben,13,136201), Log(af,Comrades-maraton,1,155180), Log(af,Dmitri_Medwedef,2,141328), Log(af,Elsas,4,319408), Log(af,Engels,2,182375), Log(af,Erich_Fromm,4,215612), Log(af,Filosoof,2,134400), Log(af,GNTA,77,511277), Log(af,Gebruiker:Aliwal2012,2,359320), Log(af,Gebruiker:JCIV,2,268216), Log(af,Gebruiker:Morne,3,991701), Log(af,Gebruiker:Naudefj,3,730849), Log(af,Gebruiker:Voyageur,2,271872), Log(af,Gebruiker:Winstonza,1,526302), Log(af,Gebruikerbespreking:JCIV/Argief2015,2,164424), Log(af,Gebruikerbespreking:Morne,5,15..."
      ]
     },
     "execution_count": 14,
     "metadata": {},
     "output_type": "execute_result"
    }
   ],
   "source": [
    "val rdd_greater_page_size_than_avg = rdd_pagecounts.filter(_.size > page_size_avg).collect()"
   ]
  },
  {
   "cell_type": "markdown",
   "id": "9aff306b-fba0-47df-8885-f29a6b2e0a25",
   "metadata": {},
   "source": [
    "8. Compute the total number of pageviews for each project (as the schema shows, the first field of each record contains the project code)."
   ]
  },
  {
   "cell_type": "code",
   "execution_count": 15,
   "id": "f6515d33-e299-4de5-9e1b-e8559e604384",
   "metadata": {},
   "outputs": [
    {
     "data": {
      "text/plain": [
       "project_hits_map = MapPartitionsRDD[13] at map at <console>:32\n",
       "project_hits = ShuffledRDD[14] at reduceByKey at <console>:33\n"
      ]
     },
     "metadata": {},
     "output_type": "display_data",
     "source": "user"
    },
    {
     "data": {
      "text/plain": [
       "ShuffledRDD[14] at reduceByKey at <console>:33"
      ]
     },
     "execution_count": 15,
     "metadata": {},
     "output_type": "execute_result"
    }
   ],
   "source": [
    "val project_hits_map = rdd_pagecounts.map(x => (x.code, x.hits))\n",
    "val project_hits = project_hits_map.reduceByKey(_+_)"
   ]
  },
  {
   "cell_type": "code",
   "execution_count": 52,
   "id": "c5bb62b5-d904-4ccf-85df-a11b07f470c8",
   "metadata": {},
   "outputs": [
    {
     "data": {
      "text/plain": [
       "Array((pt,113575), (it.s,1444), (sk.mw,9548), (ka.d,31), (ik.d,1), (frp.mw,11), (yi.mw,70), (az.q,9), (nv,25), (fr.v,264), (he.q,1), (ky.d,20), (eml.mw,30), (bxr,12), (jv,1245), (zh.voy,18), (ia.v,1), (kw,290), (br.mw,279), (beta.mw,104), (eo.d,367), (ak.d,4), (diq,268), (uk.voy,1), (stq.mw,39), (ast.d,161), (gl.q,30), (ss,1217), (mk.d,18), (tl,2782), (lt.b,46), (sk,5289), (test2,109), (kg,104), (tr.d,2477), (gu.d,2), (om.d,45), (oc,1447), (nl.voy,89), (eu.mw,716), (ii,8), (nv.mw,62), (kk.mw,707), (krc.mw,21), (os.mw,14), (iu.mw,81), (als,1054), (outreach.m,205), (pt.mw,196160), (lt.mw,6913), (id.s,152), (ln.d,9), (fr.mw,536978), (nn.v,2), (www.w,20989), (is.d,68), (kg.mw,9), (ko,1228), (ff.mw,8), (ss.mw,14), (tt.mw,233), (sg.mw,18), (pam,328), (tum,68), ..."
      ]
     },
     "execution_count": 52,
     "metadata": {},
     "output_type": "execute_result"
    }
   ],
   "source": [
    "project_hits.collect()"
   ]
  },
  {
   "cell_type": "markdown",
   "id": "fc2ee92a-c546-489c-af3f-0482ea8d3dcc",
   "metadata": {},
   "source": [
    "9. Report the 10 most popular pageviews of all projects, sorted by the total number of hits."
   ]
  },
  {
   "cell_type": "code",
   "execution_count": 21,
   "id": "a84f1179-6cef-4d1d-8852-200e86e949a5",
   "metadata": {},
   "outputs": [
    {
     "data": {
      "text/plain": [
       "Array((en.mw,5466346), (en,4959090), (es.mw,695531), (ja.mw,611443), (de.mw,572119), (fr.mw,536978), (ru.mw,466742), (it.mw,400297), (de,315929), (commons.m,285796))"
      ]
     },
     "execution_count": 21,
     "metadata": {},
     "output_type": "execute_result"
    }
   ],
   "source": [
    "project_hits.sortBy(_._2, false).take(10)"
   ]
  },
  {
   "cell_type": "markdown",
   "id": "ac3425ee-1381-496b-ae8a-e074f052aed7",
   "metadata": {},
   "source": [
    "10. Determine the number of page titles that start with the article \"The\". How many of those page titles\n",
    "are not part of the English project (Pages that are part of the English project have \"en\" as the first\n",
    "field)?"
   ]
  },
  {
   "cell_type": "code",
   "execution_count": 22,
   "id": "c29eba42-996a-4b08-aefb-f4ab63187e6e",
   "metadata": {},
   "outputs": [
    {
     "data": {
      "text/plain": [
       "page_start_the = 45020\n"
      ]
     },
     "metadata": {},
     "output_type": "display_data",
     "source": "user"
    },
    {
     "data": {
      "text/plain": [
       "45020"
      ]
     },
     "execution_count": 22,
     "metadata": {},
     "output_type": "execute_result"
    }
   ],
   "source": [
    "val page_start_the = rdd_pagecounts.filter(_.title.startsWith(\"The\")).count()"
   ]
  },
  {
   "cell_type": "code",
   "execution_count": 23,
   "id": "1487ad00-db54-47eb-ab5f-d5f1a850f4d4",
   "metadata": {},
   "outputs": [
    {
     "data": {
      "text/plain": [
       "page_start_the_not_en = 9128\n"
      ]
     },
     "metadata": {},
     "output_type": "display_data",
     "source": "user"
    },
    {
     "data": {
      "text/plain": [
       "9128"
      ]
     },
     "execution_count": 23,
     "metadata": {},
     "output_type": "execute_result"
    }
   ],
   "source": [
    "val page_start_the_not_en = rdd_pagecounts.filter(_.title.startsWith(\"The\")).filter(x=> !(x.code contains(\"en\"))).count()"
   ]
  },
  {
   "cell_type": "markdown",
   "id": "fd5b0fc9-81e2-430d-8513-c8c9cdc5752b",
   "metadata": {},
   "source": [
    "11. Determine the percentage of pages that have only received a single page view in this one hour of log\n",
    "data."
   ]
  },
  {
   "cell_type": "code",
   "execution_count": 24,
   "id": "7179f373-26fa-4cf8-9900-e6e999061efe",
   "metadata": {},
   "outputs": [
    {
     "data": {
      "text/plain": [
       "pagecount_one_hit = 2558332\n"
      ]
     },
     "metadata": {},
     "output_type": "display_data",
     "source": "user"
    },
    {
     "data": {
      "text/plain": [
       "2558332"
      ]
     },
     "execution_count": 24,
     "metadata": {},
     "output_type": "execute_result"
    }
   ],
   "source": [
    "val pagecount_one_hit = rdd_pagecounts.filter(_.hits == 1).count()"
   ]
  },
  {
   "cell_type": "code",
   "execution_count": 25,
   "id": "95d2f157-b533-46d3-a7ed-7af744b452fa",
   "metadata": {},
   "outputs": [
    {
     "data": {
      "text/plain": [
       "percentage_one_hit = 0.76962477\n"
      ]
     },
     "metadata": {},
     "output_type": "display_data",
     "source": "user"
    },
    {
     "data": {
      "text/plain": [
       "0.76962477"
      ]
     },
     "execution_count": 25,
     "metadata": {},
     "output_type": "execute_result"
    }
   ],
   "source": [
    "val percentage_one_hit = pagecount_one_hit.toFloat/page_total"
   ]
  },
  {
   "cell_type": "markdown",
   "id": "a7f8b24f-2c22-4f5c-baa5-4be9ae7d9ed5",
   "metadata": {},
   "source": [
    "12. Determine the number of unique terms appearing in the page titles. Note that in page titles, terms\n",
    "are delimited by \"_\" instead of a white space. You can use any number of normalization steps (e.g.,\n",
    "lowercasing, removal of non-alphanumeric characters)."
   ]
  },
  {
   "cell_type": "code",
   "execution_count": 26,
   "id": "f54bdca2-2efe-420e-8f20-18baffc0f112",
   "metadata": {},
   "outputs": [
    {
     "data": {
      "text/plain": [
       "lower_title = MapPartitionsRDD[29] at map at <console>:32\n"
      ]
     },
     "metadata": {},
     "output_type": "display_data",
     "source": "user"
    },
    {
     "data": {
      "text/plain": [
       "MapPartitionsRDD[29] at map at <console>:32"
      ]
     },
     "execution_count": 26,
     "metadata": {},
     "output_type": "execute_result"
    }
   ],
   "source": [
    "val lower_title = rdd_pagecounts.map(x=>x.title.replaceAll(\"[^\\\\p{IsAlphabetic}\\\\p{IsDigit}\\\\{_}]\", \"\").toLowerCase().split(\"_\"))"
   ]
  },
  {
   "cell_type": "code",
   "execution_count": 28,
   "id": "73b1a88a-f59c-4b96-afca-5d47ede0c354",
   "metadata": {},
   "outputs": [
    {
     "data": {
      "text/plain": [
       "Array(Array(271, ac), Array(categoryuser, th), Array(chiron, elias, krase), Array(dassault, rafaele), Array(edesv), Array(filewiktionarylogoenpng), Array(indonesian, wikipedia), Array(main, page), Array(requests, for, new, languageswikipedia, banyumasan), Array(specialcontributions203144160245))"
      ]
     },
     "execution_count": 28,
     "metadata": {},
     "output_type": "execute_result"
    }
   ],
   "source": [
    "lower_title.take(10)"
   ]
  },
  {
   "cell_type": "code",
   "execution_count": 29,
   "id": "94300a35-26fb-46d8-ae56-7321d6b627c4",
   "metadata": {},
   "outputs": [
    {
     "data": {
      "text/plain": [
       "distinct_term_number = 1689818\n"
      ]
     },
     "metadata": {},
     "output_type": "display_data",
     "source": "user"
    },
    {
     "data": {
      "text/plain": [
       "1689818"
      ]
     },
     "execution_count": 29,
     "metadata": {},
     "output_type": "execute_result"
    }
   ],
   "source": [
    "val distinct_term_number = lower_title.flatMap(x => x).distinct.count()"
   ]
  },
  {
   "cell_type": "markdown",
   "id": "f750a2c4-69ac-4bf9-a6fe-65041a97d47b",
   "metadata": {},
   "source": [
    "13. Determine the most frequently occurring page title term in this dataset."
   ]
  },
  {
   "cell_type": "code",
   "execution_count": 30,
   "id": "08ab6985-2145-4567-a962-8612a3b28b0e",
   "metadata": {},
   "outputs": [
    {
     "data": {
      "text/plain": [
       "lower_title_freq = ShuffledRDD[36] at reduceByKey at <console>:32\n"
      ]
     },
     "metadata": {},
     "output_type": "display_data",
     "source": "user"
    },
    {
     "data": {
      "text/plain": [
       "ShuffledRDD[36] at reduceByKey at <console>:32"
      ]
     },
     "execution_count": 30,
     "metadata": {},
     "output_type": "execute_result"
    }
   ],
   "source": [
    "val lower_title_freq = lower_title.flatMap(x => x).map(x=>(x,1)).reduceByKey(_+_)"
   ]
  },
  {
   "cell_type": "code",
   "execution_count": 31,
   "id": "120e982f-afdc-4947-879d-2e0c8c4ced7b",
   "metadata": {},
   "outputs": [
    {
     "data": {
      "text/plain": [
       "most_freq_term = Array(of)\n"
      ]
     },
     "metadata": {},
     "output_type": "display_data",
     "source": "user"
    },
    {
     "data": {
      "text/plain": [
       "Array(of)"
      ]
     },
     "execution_count": 31,
     "metadata": {},
     "output_type": "execute_result"
    }
   ],
   "source": [
    "val most_freq_term = lower_title_freq.sortBy(_._2, false).map(_._1).take(1)"
   ]
  },
  {
   "cell_type": "markdown",
   "id": "52dc9e7e-1700-4191-9b00-7338e82f2f68",
   "metadata": {},
   "source": [
    "### Task 2 - Spark SQL"
   ]
  },
  {
   "cell_type": "markdown",
   "id": "7b0f8f6f-b912-4ded-b7ef-98a0bb15da43",
   "metadata": {},
   "source": [
    "First, convert the pagecounts from RDD[String] into DataFrame (hint: you may need to transform RDD[String] into RDD[Log] and then DataFrame)."
   ]
  },
  {
   "cell_type": "code",
   "execution_count": 32,
   "id": "b9602dfe-4038-4575-8419-c92b5a4372a8",
   "metadata": {},
   "outputs": [
    {
     "data": {
      "text/plain": [
       "df = [project: string, title: string ... 2 more fields]\n"
      ]
     },
     "metadata": {},
     "output_type": "display_data",
     "source": "user"
    },
    {
     "data": {
      "text/plain": [
       "[project: string, title: string ... 2 more fields]"
      ]
     },
     "execution_count": 32,
     "metadata": {},
     "output_type": "execute_result"
    }
   ],
   "source": [
    "val df = rdd_pagecounts.toDF(\"project\", \"title\", \"hits\", \"size\")"
   ]
  },
  {
   "cell_type": "code",
   "execution_count": 33,
   "id": "62ebd042-e303-4b04-9223-15e40d58af4e",
   "metadata": {},
   "outputs": [
    {
     "name": "stdout",
     "output_type": "stream",
     "text": [
      "root\n",
      " |-- project: string (nullable = true)\n",
      " |-- title: string (nullable = true)\n",
      " |-- hits: long (nullable = false)\n",
      " |-- size: long (nullable = false)\n",
      "\n"
     ]
    }
   ],
   "source": [
    "df.printSchema()"
   ]
  },
  {
   "cell_type": "code",
   "execution_count": 34,
   "id": "187f8b1c-0c09-4049-b3c1-56c5b25883ed",
   "metadata": {},
   "outputs": [
    {
     "name": "stdout",
     "output_type": "stream",
     "text": [
      "+-------+----------------+----+----+\n",
      "|project|           title|hits|size|\n",
      "+-------+----------------+----+----+\n",
      "|     aa|         271_a.C|   1|4675|\n",
      "|     aa|Category:User_th|   1|4770|\n",
      "+-------+----------------+----+----+\n",
      "only showing top 2 rows\n",
      "\n"
     ]
    }
   ],
   "source": [
    "df.show(2)"
   ]
  },
  {
   "cell_type": "markdown",
   "id": "0bfa53dd-1a5f-4a16-aada-c4fe39a99066",
   "metadata": {},
   "source": [
    "Compute the min, max, and average page size."
   ]
  },
  {
   "cell_type": "code",
   "execution_count": 35,
   "id": "5ad02dcf-6a1e-49d9-8136-6aac2c1915f0",
   "metadata": {},
   "outputs": [],
   "source": [
    "import org.apache.spark.sql.functions\n",
    "import org.apache.spark.sql.functions.{min, max, avg}"
   ]
  },
  {
   "cell_type": "code",
   "execution_count": 36,
   "id": "7973b93b-b390-4005-8c2d-5af9228b38ba",
   "metadata": {},
   "outputs": [
    {
     "name": "stdout",
     "output_type": "stream",
     "text": [
      "+------------+\n",
      "|max(size)   |\n",
      "+------------+\n",
      "|141180155987|\n",
      "+------------+\n",
      "\n"
     ]
    }
   ],
   "source": [
    "df.select(max(\"size\")).show(false)"
   ]
  },
  {
   "cell_type": "code",
   "execution_count": 37,
   "id": "7ca0fb9f-3c9c-48f2-bb29-2c7c0ebb27ba",
   "metadata": {},
   "outputs": [
    {
     "name": "stdout",
     "output_type": "stream",
     "text": [
      "+---------+\n",
      "|min(size)|\n",
      "+---------+\n",
      "|0        |\n",
      "+---------+\n",
      "\n"
     ]
    }
   ],
   "source": [
    "df.select(min(\"size\")).show(false)"
   ]
  },
  {
   "cell_type": "code",
   "execution_count": 38,
   "id": "4f67ee7a-b8c0-4578-94bb-1a39ea25f83c",
   "metadata": {},
   "outputs": [
    {
     "name": "stdout",
     "output_type": "stream",
     "text": [
      "+------------------+\n",
      "|avg(size)         |\n",
      "+------------------+\n",
      "|132239.56957446598|\n",
      "+------------------+\n",
      "\n"
     ]
    }
   ],
   "source": [
    "df.select(avg(\"size\")).show(false)"
   ]
  },
  {
   "cell_type": "markdown",
   "id": "3c81b39b-87e6-4d5a-b917-cc1842a83eda",
   "metadata": {},
   "source": [
    "Determine the record with the largest page size again. But now, pick the most popular."
   ]
  },
  {
   "cell_type": "code",
   "execution_count": 40,
   "id": "d802d623-918a-45a3-a261-64612a51bd8c",
   "metadata": {},
   "outputs": [
    {
     "data": {
      "text/plain": [
       "Array([en.mw,en,5466346,141180155987])"
      ]
     },
     "execution_count": 40,
     "metadata": {},
     "output_type": "execute_result"
    }
   ],
   "source": [
    "import org.apache.spark.sql.functions.desc\n",
    "df.orderBy(desc(\"size\")).take(1) // largest page size"
   ]
  },
  {
   "cell_type": "code",
   "execution_count": 9,
   "id": "67441488-80d6-43a9-a513-eb4339497303",
   "metadata": {},
   "outputs": [
    {
     "name": "stdout",
     "output_type": "stream",
     "text": [
      "+-------+---------------------------------------------+-------+------------+\n",
      "|project|title                                        |hits   |size        |\n",
      "+-------+---------------------------------------------+-------+------------+\n",
      "|en.mw  |en                                           |5466346|141180155987|\n",
      "|ja.mw  |ja                                           |611443 |15021588551 |\n",
      "|es.mw  |es                                           |695531 |12261337515 |\n",
      "|ru.mw  |ru                                           |466742 |11847816616 |\n",
      "|fr.mw  |fr                                           |536978 |11752030020 |\n",
      "|de.mw  |de                                           |572119 |9523069696  |\n",
      "|it.mw  |it                                           |400297 |8176042087  |\n",
      "|en     |Main_Page                                    |257915 |4289970372  |\n",
      "|pt.mw  |pt                                           |196160 |4029404403  |\n",
      "|pl.mw  |pl                                           |176059 |2782453516  |\n",
      "|ar.mw  |ar                                           |118349 |2371877485  |\n",
      "|en     |List_of_stock_market_crashes_and_bear_markets|80985  |1708950622  |\n",
      "|tr.mw  |tr                                           |125999 |1696690918  |\n",
      "|en     |Hillary_Clinton_presidential_campaign,_2016  |1217   |1661332680  |\n",
      "|nl.mw  |nl                                           |108394 |1214005672  |\n",
      "|sv.mw  |sv                                           |98181  |1091825982  |\n",
      "|en     |Special:BlankPage                            |64198  |941551015   |\n",
      "|cs.mw  |cs                                           |48159  |742078761   |\n",
      "|fa.mw  |fa                                           |44106  |741875050   |\n",
      "|en     |Special:UserLogin                            |44198  |718770014   |\n",
      "+-------+---------------------------------------------+-------+------------+\n",
      "only showing top 20 rows\n",
      "\n"
     ]
    }
   ],
   "source": [
    "df.orderBy($\"size\".desc, $\"hits\".desc).show(false) // Largest page size and most popular "
   ]
  },
  {
   "cell_type": "markdown",
   "id": "b74fcc14-e2d2-4fe2-89c0-af8d79cb40b1",
   "metadata": {},
   "source": [
    "Use the results of Question 3, and create a new RDD with the records that have greater page size than the average."
   ]
  },
  {
   "cell_type": "code",
   "execution_count": 41,
   "id": "4b9e8ab7-d189-416a-854b-4a5b5c2d2d88",
   "metadata": {},
   "outputs": [],
   "source": [
    "import org.apache.spark.sql.types"
   ]
  },
  {
   "cell_type": "code",
   "execution_count": 42,
   "id": "c704cc5e-f48c-4414-a1c4-7f2765b3ae74",
   "metadata": {},
   "outputs": [
    {
     "data": {
      "text/plain": [
       "average = 132239.56957446598\n"
      ]
     },
     "metadata": {},
     "output_type": "display_data",
     "source": "user"
    },
    {
     "data": {
      "text/plain": [
       "132239.56957446598"
      ]
     },
     "execution_count": 42,
     "metadata": {},
     "output_type": "execute_result"
    }
   ],
   "source": [
    "val average = df.select(avg(\"size\")).collect()(0)(0)"
   ]
  },
  {
   "cell_type": "code",
   "execution_count": 43,
   "id": "9c512f24-62e5-4712-829b-b5f014c68066",
   "metadata": {},
   "outputs": [
    {
     "name": "stdout",
     "output_type": "stream",
     "text": [
      "+-------+------------------------------------+----+------+\n",
      "|project|title                               |hits|size  |\n",
      "+-------+------------------------------------+----+------+\n",
      "|de     |Tabakrauchen                        |2   |132241|\n",
      "|pt     |Parse                               |1   |132241|\n",
      "|en     |Yahoo_Serious                       |8   |132243|\n",
      "|en     |City_of_Hope_National_Medical_Center|3   |132243|\n",
      "|en     |Disgaea_5:_Alliance_of_Vengeance    |8   |132243|\n",
      "|en     |File:Mamintb.PNG                    |4   |132244|\n",
      "|en     |Procellariidae                      |3   |132244|\n",
      "|en     |Nat_Geo_Wild                        |7   |132244|\n",
      "|en     |Virtual_particle                    |6   |132245|\n",
      "|en     |Cee-lo                              |11  |132245|\n",
      "|en     |Jean_Marsh                          |7   |132246|\n",
      "|en     |Varsity_Blues_(film)                |9   |132247|\n",
      "|en     |Rare-earth_magnet                   |8   |132248|\n",
      "|en     |Farmington_Hills,_Michigan          |4   |132248|\n",
      "|en     |Val_Verde_(fictional_country)       |8   |132249|\n",
      "|en     |Congenital_insensitivity_to_pain    |6   |132249|\n",
      "|en     |Saporta_Cup                         |3   |132250|\n",
      "|en     |Northern_line_extension_to_Battersea|4   |132251|\n",
      "|en     |Economic_globalization              |3   |132252|\n",
      "|id     |Papua_Nugini                        |3   |132255|\n",
      "+-------+------------------------------------+----+------+\n",
      "only showing top 20 rows\n",
      "\n"
     ]
    },
    {
     "data": {
      "text/plain": [
       "df_greater = [project: string, title: string ... 2 more fields]\n"
      ]
     },
     "metadata": {},
     "output_type": "display_data",
     "source": "user"
    },
    {
     "data": {
      "text/plain": [
       "[project: string, title: string ... 2 more fields]"
      ]
     },
     "execution_count": 43,
     "metadata": {},
     "output_type": "execute_result"
    }
   ],
   "source": [
    "import org.apache.spark.sql.functions._\n",
    "\n",
    "val df_greater = df.filter(col(\"size\") > lit(average)).orderBy($\"size\")\n",
    "df_greater.show(false)"
   ]
  },
  {
   "cell_type": "markdown",
   "id": "0e14de9c-51e6-4062-934e-d801833ab0ea",
   "metadata": {},
   "source": [
    "Determine the number of unique terms appearing in the page titles. Note that in page titles, terms are delimited by _ instead of a white space. You can use any number of normalization steps (e.g.,lowercasing, removal of non-alphanumeric characters)."
   ]
  },
  {
   "cell_type": "code",
   "execution_count": 23,
   "id": "79561504-5fc8-44ae-9239-6b1d7393a1dc",
   "metadata": {},
   "outputs": [],
   "source": [
    "import org.apache.spark.sql.functions.regexp_replace\n",
    "import org.apache.spark.sql.functions.trim\n",
    "import org.apache.spark.sql.functions.col\n",
    "import org.apache.spark.sql.functions.lower"
   ]
  },
  {
   "cell_type": "code",
   "execution_count": 44,
   "id": "f90e376b-c8d5-4a58-828c-a9659e8093b7",
   "metadata": {},
   "outputs": [],
   "source": [
    "import org.apache.spark.sql.functions.regexp_replace"
   ]
  },
  {
   "cell_type": "code",
   "execution_count": 45,
   "id": "1aee5c66-a0f9-4da2-9d20-787998239214",
   "metadata": {},
   "outputs": [
    {
     "data": {
      "text/plain": [
       "df_cleaned = [project: string, title: string ... 2 more fields]\n"
      ]
     },
     "metadata": {},
     "output_type": "display_data",
     "source": "user"
    },
    {
     "data": {
      "text/plain": [
       "[project: string, title: string ... 2 more fields]"
      ]
     },
     "execution_count": 45,
     "metadata": {},
     "output_type": "execute_result"
    }
   ],
   "source": [
    "// Only keep alphabetic, digit, and _\n",
    "// Apply lowercasing\n",
    "val df_cleaned = df.withColumn(\"title\",regexp_replace($\"title\", \"[^\\\\p{IsAlphabetic}\\\\p{IsDigit}\\\\{_}]\", \"\")).withColumn(\"title\", lower(col(\"title\"))) "
   ]
  },
  {
   "cell_type": "code",
   "execution_count": 46,
   "id": "2d0d9f86-478f-4eea-b71d-35d23b3f7815",
   "metadata": {},
   "outputs": [
    {
     "data": {
      "text/plain": [
       "df_split = [project: string, title: array<string> ... 3 more fields]\n"
      ]
     },
     "metadata": {},
     "output_type": "display_data",
     "source": "user"
    },
    {
     "data": {
      "text/plain": [
       "[project: string, title: array<string> ... 3 more fields]"
      ]
     },
     "execution_count": 46,
     "metadata": {},
     "output_type": "execute_result"
    }
   ],
   "source": [
    "// Split on _\n",
    "// Explode on array and get tokens\n",
    "val df_split = df_cleaned.withColumn(\"title\",split(col(\"title\"),\"_\")).withColumn(\"token\", explode(col(\"title\"))) "
   ]
  },
  {
   "cell_type": "code",
   "execution_count": 49,
   "id": "984a9e73-414a-4c52-a804-37346a61e5d8",
   "metadata": {},
   "outputs": [
    {
     "data": {
      "text/plain": [
       "total_words = [token: string, count: bigint]\n"
      ]
     },
     "metadata": {},
     "output_type": "display_data",
     "source": "user"
    },
    {
     "data": {
      "text/plain": [
       "[token: string, count: bigint]"
      ]
     },
     "execution_count": 49,
     "metadata": {},
     "output_type": "execute_result"
    }
   ],
   "source": [
    "// Count unique words\n",
    "val total_words = df_split.groupBy(\"token\").count()"
   ]
  },
  {
   "cell_type": "code",
   "execution_count": 50,
   "id": "8816939c-4da1-4754-93a9-23310ac15077",
   "metadata": {},
   "outputs": [
    {
     "data": {
      "text/plain": [
       "1689818"
      ]
     },
     "execution_count": 50,
     "metadata": {},
     "output_type": "execute_result"
    }
   ],
   "source": [
    "// Total amount of unique words\n",
    "total_words.count()"
   ]
  },
  {
   "cell_type": "markdown",
   "id": "ee560b68-3a23-4502-a3ca-3aa0e82eed26",
   "metadata": {},
   "source": [
    "Determine the most frequently occurring page title term in this dataset."
   ]
  },
  {
   "cell_type": "code",
   "execution_count": 51,
   "id": "edcdf2d8-4ddf-42d8-8f78-6452eb102d66",
   "metadata": {},
   "outputs": [
    {
     "data": {
      "text/plain": [
       "of"
      ]
     },
     "execution_count": 51,
     "metadata": {},
     "output_type": "execute_result"
    }
   ],
   "source": [
    "total_words.orderBy(desc(\"count\")).take(1)(0)(0)"
   ]
  },
  {
   "cell_type": "code",
   "execution_count": null,
   "id": "6cd871d5-b85c-47e8-a59e-9b79188666d4",
   "metadata": {
    "tags": []
   },
   "outputs": [],
   "source": []
  }
 ],
 "metadata": {
  "kernelspec": {
   "display_name": "Apache Toree - Scala",
   "language": "scala",
   "name": "apache_toree_scala"
  },
  "language_info": {
   "codemirror_mode": "text/x-scala",
   "file_extension": ".scala",
   "mimetype": "text/x-scala",
   "name": "scala",
   "pygments_lexer": "scala",
   "version": "2.11.12"
  }
 },
 "nbformat": 4,
 "nbformat_minor": 5
}
