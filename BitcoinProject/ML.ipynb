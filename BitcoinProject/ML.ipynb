{
 "cells": [
  {
   "cell_type": "markdown",
   "id": "af6a3c77-f4e3-4011-aa67-bbc3ef940ed7",
   "metadata": {
    "tags": []
   },
   "source": [
    "# Sample Data"
   ]
  },
  {
   "cell_type": "markdown",
   "id": "5fd8d158-8395-4a7f-82c0-fa681e2dfa17",
   "metadata": {},
   "source": [
    "### Bitcoin"
   ]
  },
  {
   "cell_type": "code",
   "execution_count": 12,
   "id": "d5ebc61a-5187-45ae-aa5d-85d4fc904eff",
   "metadata": {},
   "outputs": [],
   "source": [
    "# Define period\n",
    "import datetime\n",
    "startdate = (datetime.datetime.now() - datetime.timedelta(days=20))\n",
    "starttime =startdate.strftime(\"%Y-%m-%d\")\n",
    "\n",
    "enddate = datetime.datetime.now()\n",
    "endtime = enddate.strftime(\"%Y-%m-%d\")"
   ]
  },
  {
   "cell_type": "code",
   "execution_count": null,
   "id": "1936a043-d2ef-466e-8b72-af0cd61e84f7",
   "metadata": {},
   "outputs": [],
   "source": [
    "# Extract bitcoin prices\n",
    "from urllib.request import urlopen\n",
    "import requests\n",
    "html = requests.get(\"https://api.coindesk.com/v1/bpi/historical/close.json?start=\"+starttime+\"&end=\"+endtime)\n",
    "bitcoin = html.json()\n",
    "\n",
    "# Dictionary {Date : Bitcoin price}\n",
    "d_bitcoin = bitcoin[\"bpi\"]\n",
    "\n",
    "import pandas as pd\n",
    "# Convert to DataFrame\n",
    "df_bitcoin = pd.DataFrame({'date': list(d_bitcoin.keys()),'bitcoin': list(d_bitcoin.values())})"
   ]
  },
  {
   "cell_type": "markdown",
   "id": "4279912f-4e8e-42ce-aada-7fef4e217b5c",
   "metadata": {},
   "source": [
    "## News"
   ]
  },
  {
   "cell_type": "code",
   "execution_count": 17,
   "id": "3dfbfee8-025e-4128-b458-e989a3f50f42",
   "metadata": {},
   "outputs": [],
   "source": [
    "from datetime import date, timedelta\n",
    "delta = enddate - startdate    # as timedelta\n",
    "dates = [(startdate + timedelta(days=i)).strftime(\"%Y-%m-%d\") for i in range(delta.days + 1)]"
   ]
  },
  {
   "cell_type": "code",
   "execution_count": 18,
   "id": "624009de-6cea-4d10-a508-4bbb7afb2db9",
   "metadata": {},
   "outputs": [],
   "source": [
    "import statistics\n",
    "from nltk.sentiment import SentimentIntensityAnalyzer\n",
    "sia = SentimentIntensityAnalyzer();\n",
    "\n",
    "mean_scores = [] # Mean scores per day\n",
    "for date in dates:\n",
    "    # Only the English news about bitcoin\n",
    "    news = requests.get(\"https://newsapi.org/v2/everything?q=bitcoin&from=\"+date+\"&to=\"+date+\"&sortBy=publishedAt&language=en&apiKey=b3aae8a2a9f34d82ae214aea72d0f2b6\").json()\n",
    "    compound = [] # Sentiment scores of each article on specific day\n",
    "    for i in range(0,len(news[\"articles\"])):\n",
    "        text = news[\"articles\"][i][\"title\"]\n",
    "        compound.append(sia.polarity_scores(text)['compound'])\n",
    "    mean_scores.append(statistics.mean(compound))"
   ]
  },
  {
   "cell_type": "code",
   "execution_count": 23,
   "id": "8e34e961-84a4-41a0-8784-32f99225ce7c",
   "metadata": {},
   "outputs": [],
   "source": [
    "# DataFrame with date and mean scores\n",
    "sentiment_scores = pd.DataFrame(\n",
    "    {'date': dates,\n",
    "     'sentiment': mean_scores\n",
    "    })"
   ]
  },
  {
   "cell_type": "markdown",
   "id": "b07533b0-8e96-42de-b9c0-4bcda55080ea",
   "metadata": {},
   "source": [
    "# Spark"
   ]
  },
  {
   "cell_type": "code",
   "execution_count": 20,
   "id": "c8153c47-7207-44c1-91c9-e70598447f4e",
   "metadata": {},
   "outputs": [],
   "source": [
    "from pyspark.sql import SparkSession\n",
    "# Create PySpark SparkSession\n",
    "spark = SparkSession.builder \\\n",
    "    .master(\"local[1]\") \\\n",
    "    .appName(\"project\") \\\n",
    "    .getOrCreate()"
   ]
  },
  {
   "cell_type": "code",
   "execution_count": 21,
   "id": "42b9288b-afa8-4acd-8de5-3dfd632c0003",
   "metadata": {},
   "outputs": [
    {
     "name": "stdout",
     "output_type": "stream",
     "text": [
      "root\n",
      " |-- date: string (nullable = true)\n",
      " |-- bitcoin: double (nullable = true)\n",
      "\n",
      "+----------+----------+\n",
      "|      date|   bitcoin|\n",
      "+----------+----------+\n",
      "|2021-10-02|47671.9367|\n",
      "|2021-10-03|48233.0983|\n",
      "|2021-10-04|  49240.26|\n",
      "|2021-10-05|  51495.32|\n",
      "|2021-10-06| 55340.015|\n",
      "|2021-10-07| 53798.405|\n",
      "|2021-10-08|53944.2767|\n",
      "|2021-10-09|54960.8483|\n",
      "|2021-10-10|54686.1333|\n",
      "|2021-10-11|57490.3067|\n",
      "|2021-10-12| 56001.745|\n",
      "|2021-10-13|57375.7267|\n",
      "|2021-10-14|57355.0283|\n",
      "|2021-10-15|  61693.79|\n",
      "|2021-10-16|60871.4467|\n",
      "|2021-10-17|61518.8433|\n",
      "|2021-10-18|62025.1667|\n",
      "|2021-10-19|64286.5167|\n",
      "|2021-10-20|66015.0967|\n",
      "|2021-10-21|62201.9633|\n",
      "+----------+----------+\n",
      "\n"
     ]
    }
   ],
   "source": [
    "# Create PySpark DataFrame from Pandas for bitcoin\n",
    "spark_bitcoin=spark.createDataFrame(df_bitcoin) \n",
    "spark_bitcoin.printSchema()\n",
    "spark_bitcoin.show()"
   ]
  },
  {
   "cell_type": "code",
   "execution_count": 24,
   "id": "0b56be2b-2aa4-45c6-80af-2b23e08cccf2",
   "metadata": {},
   "outputs": [
    {
     "name": "stdout",
     "output_type": "stream",
     "text": [
      "root\n",
      " |-- date: string (nullable = true)\n",
      " |-- sentiment: double (nullable = true)\n",
      "\n",
      "+----------+--------------------+\n",
      "|      date|           sentiment|\n",
      "+----------+--------------------+\n",
      "|2021-10-02|             0.08999|\n",
      "|2021-10-03|            0.025085|\n",
      "|2021-10-04|0.012860000000000007|\n",
      "|2021-10-05|0.008915000000000003|\n",
      "|2021-10-06|             0.07488|\n",
      "|2021-10-07|0.036399999999999995|\n",
      "|2021-10-08|            0.161375|\n",
      "|2021-10-09|             0.10668|\n",
      "|2021-10-10|            0.093935|\n",
      "|2021-10-11|-0.04367500000000...|\n",
      "|2021-10-12|            0.101235|\n",
      "|2021-10-13|-0.00575499999999...|\n",
      "|2021-10-14|0.049144999999999994|\n",
      "|2021-10-15|             0.09211|\n",
      "|2021-10-16|0.026699999999999995|\n",
      "|2021-10-17|            0.035655|\n",
      "|2021-10-18|            -0.05428|\n",
      "|2021-10-19|             0.03883|\n",
      "|2021-10-20| 0.10020000000000001|\n",
      "|2021-10-21|             0.07749|\n",
      "+----------+--------------------+\n",
      "only showing top 20 rows\n",
      "\n"
     ]
    }
   ],
   "source": [
    "# Create PySpark DataFrame from Pandas for sentiment score\n",
    "spark_sent=spark.createDataFrame(sentiment_scores) \n",
    "spark_sent.printSchema()\n",
    "spark_sent.show()"
   ]
  },
  {
   "cell_type": "code",
   "execution_count": 28,
   "id": "26e6c1e3-cafc-4bd3-9b2e-777f8215ce59",
   "metadata": {},
   "outputs": [],
   "source": [
    "# Join both on date column\n",
    "sparkDF = spark_sent.join(spark_bitcoin,spark_sent.date ==  spark_bitcoin.date,\"inner\")"
   ]
  },
  {
   "cell_type": "code",
   "execution_count": 29,
   "id": "4bf422ef-dfe5-4b30-8c61-19dc110efbd9",
   "metadata": {},
   "outputs": [],
   "source": [
    "# Drop date column\n",
    "sparkDF = sparkDF.drop('date')"
   ]
  },
  {
   "cell_type": "code",
   "execution_count": 30,
   "id": "0763aa55-b16e-4ff3-9afa-5e0870a61ecf",
   "metadata": {},
   "outputs": [
    {
     "name": "stdout",
     "output_type": "stream",
     "text": [
      "+--------------------+----------+\n",
      "|           sentiment|   bitcoin|\n",
      "+--------------------+----------+\n",
      "|             0.03883|64286.5167|\n",
      "|             0.10668|54960.8483|\n",
      "|            0.093935|54686.1333|\n",
      "|             0.09211|  61693.79|\n",
      "|0.026699999999999995|60871.4467|\n",
      "|0.012860000000000007|  49240.26|\n",
      "|             0.07488| 55340.015|\n",
      "|-0.00575499999999...|57375.7267|\n",
      "|            0.025085|48233.0983|\n",
      "|            -0.05428|62025.1667|\n",
      "| 0.10020000000000001|66015.0967|\n",
      "|            0.161375|53944.2767|\n",
      "|            0.035655|61518.8433|\n",
      "|0.008915000000000003|  51495.32|\n",
      "|             0.07749|62201.9633|\n",
      "|0.049144999999999994|57355.0283|\n",
      "|             0.08999|47671.9367|\n",
      "|-0.04367500000000...|57490.3067|\n",
      "|0.036399999999999995| 53798.405|\n",
      "|            0.101235| 56001.745|\n",
      "+--------------------+----------+\n",
      "\n"
     ]
    }
   ],
   "source": [
    "sparkDF.show()"
   ]
  },
  {
   "cell_type": "markdown",
   "id": "4aa317c8-bfba-4e23-aff0-5432a93a709a",
   "metadata": {},
   "source": [
    "# MLlib"
   ]
  },
  {
   "cell_type": "code",
   "execution_count": 31,
   "id": "cfd4b3fa-bbbd-4393-8013-4f804445b6e0",
   "metadata": {},
   "outputs": [],
   "source": [
    "from pyspark.ml.feature import VectorAssembler\n",
    "# Define features\n",
    "assembler = VectorAssembler().setInputCols(['sentiment']).setOutputCol('features')\n",
    "DF = assembler.transform(sparkDF)"
   ]
  },
  {
   "cell_type": "code",
   "execution_count": 34,
   "id": "a88af458-d859-4fa0-8ff3-321aa038cc33",
   "metadata": {},
   "outputs": [],
   "source": [
    "# Split data into train/test\n",
    "splits = DF.randomSplit([0.7, 0.3])\n",
    "train_df = splits[0]\n",
    "test_df = splits[1]"
   ]
  },
  {
   "cell_type": "code",
   "execution_count": 35,
   "id": "003cbebc-346f-43ad-b8b9-08946334cd8a",
   "metadata": {},
   "outputs": [],
   "source": [
    "from pyspark.ml.regression import LinearRegression\n",
    "# Train regression model\n",
    "lr = LinearRegression(featuresCol = 'features', labelCol='bitcoin', maxIter=10, regParam=0.3, elasticNetParam=0.8)\n",
    "lr_model = lr.fit(train_df)\n",
    "#print(\"Coefficients: \" + str(lr_model.coefficients))\n",
    "#print(\"Intercept: \" + str(lr_model.intercept))"
   ]
  },
  {
   "cell_type": "code",
   "execution_count": 36,
   "id": "917699a1-2d8c-48b3-aac6-b7eb6193df60",
   "metadata": {},
   "outputs": [
    {
     "name": "stdout",
     "output_type": "stream",
     "text": [
      "+------------------+----------+--------------------+\n",
      "|        prediction|   bitcoin|            features|\n",
      "+------------------+----------+--------------------+\n",
      "| 56449.77608017796|54960.8483|           [0.10668]|\n",
      "| 56779.21874821476|54686.1333|          [0.093935]|\n",
      "| 56826.39276698032|  61693.79|           [0.09211]|\n",
      "| 58517.16129709307|60871.4467|[0.02669999999999...|\n",
      "| 58874.90837638921|  49240.26|[0.01286000000000...|\n",
      "|   59356.083367798|57375.7267|[-0.0057549999999...|\n",
      "|58558.907072603426|48233.0983|          [0.025085]|\n",
      "|58976.881803255055|  51495.32|[0.00891500000000...|\n",
      "| 57204.30189265298|62201.9633|           [0.07749]|\n",
      "| 56590.52267315249| 56001.745|          [0.101235]|\n",
      "+------------------+----------+--------------------+\n",
      "\n"
     ]
    }
   ],
   "source": [
    "# Apply regression model on test data\n",
    "lr_predictions = lr_model.transform(test_df)\n",
    "lr_predictions.select(\"prediction\",\"bitcoin\",\"features\").show()"
   ]
  },
  {
   "cell_type": "code",
   "execution_count": null,
   "id": "55751ab0-46a8-42c0-b0c9-d0be99ad13f1",
   "metadata": {},
   "outputs": [],
   "source": []
  }
 ],
 "metadata": {
  "kernelspec": {
   "display_name": "Python 3",
   "language": "python",
   "name": "python3"
  },
  "language_info": {
   "codemirror_mode": {
    "name": "ipython",
    "version": 3
   },
   "file_extension": ".py",
   "mimetype": "text/x-python",
   "name": "python",
   "nbconvert_exporter": "python",
   "pygments_lexer": "ipython3",
   "version": "3.7.11"
  }
 },
 "nbformat": 4,
 "nbformat_minor": 5
}
