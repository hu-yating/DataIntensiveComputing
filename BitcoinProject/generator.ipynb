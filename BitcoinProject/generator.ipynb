{
 "cells": [
  {
   "cell_type": "markdown",
   "id": "65739997-ec54-491a-90e3-6374fc79d9f2",
   "metadata": {},
   "source": [
    "```bash\n",
    "## environment\n",
    "pip3 install kafka-python\n",
    "\n",
    "zookeeper-server-start.sh $KAFKA_HOME/config/zookeeper.properties\n",
    "kafka-server-start.sh $KAFKA_HOME/config/server.properties\n",
    "kafka-topics.sh --create --zookeeper localhost:2181 --replication-factor 1 --partitions 1 --topic bitcoin\n",
    "kafka-topics.sh --create --zookeeper localhost:2181 --replication-factor 1 --partitions 1 --topic news\n",
    "```"
   ]
  },
  {
   "cell_type": "code",
   "execution_count": 1,
   "id": "1d665a80-3783-4a3a-afcc-1ccf254d6a80",
   "metadata": {},
   "outputs": [],
   "source": [
    "from kafka import KafkaProducer\n",
    "from json import dumps\n",
    "import time\n",
    "import json\n",
    "\n",
    "from urllib.request import urlopen\n",
    "import requests\n",
    "import datetime"
   ]
  },
  {
   "cell_type": "code",
   "execution_count": 2,
   "id": "0ce0bee7-41cc-4017-ab09-b3ce5406256e",
   "metadata": {},
   "outputs": [],
   "source": [
    "# to send sentiment before to producer\n",
    "import nltk\n",
    "from nltk.sentiment.vader import SentimentIntensityAnalyzer\n",
    "vader = SentimentIntensityAnalyzer()"
   ]
  },
  {
   "cell_type": "code",
   "execution_count": 3,
   "id": "c25b1626-3fd3-4b81-bf87-67b47f2f8e67",
   "metadata": {
    "tags": []
   },
   "outputs": [],
   "source": [
    "from pyspark import SparkContext\n",
    "from pyspark import SparkConf\n",
    "\n",
    "ip = 'localhost'\n",
    "producer = KafkaProducer(bootstrap_servers=[ip+':9092'],\n",
    "                         api_version=(0,11,5),\n",
    "                         value_serializer=lambda x: \n",
    "                         dumps(x).encode('utf-8'))\n",
    "\n",
    "news_api_key = \"b3aae8a2a9f34d82ae214aea72d0f2b6\""
   ]
  },
  {
   "cell_type": "code",
   "execution_count": 6,
   "id": "f4e3e6c0-4e06-4703-9b1c-d8561bace091",
   "metadata": {},
   "outputs": [
    {
     "name": "stdout",
     "output_type": "stream",
     "text": [
      "From:  2021-10-21\n",
      "To:  2021-10-22\n",
      "{'date': '2021-10-21', 'price': 62201.9633, 'type': 'bitcoin'}\n",
      "{'date': '2021-10-21', 'sentiment': '-0.9001', 'title': \"GOP congressman: Capitol riot defendants are being treated worse than 'blood thirsty murderers' at Guantanamo\", 'type': 'news'}\n"
     ]
    }
   ],
   "source": [
    "# Simulate when get new price and news\n",
    "day = 0\n",
    "starttime = (datetime.datetime.now() - datetime.timedelta(days=2*day+1)).strftime(\"%Y-%m-%d\")\n",
    "endtime =(datetime.datetime.now() - datetime.timedelta(days=2*day)).strftime(\"%Y-%m-%d\")\n",
    "\n",
    "print(\"From: \",starttime)\n",
    "print(\"To: \", endtime)\n",
    "\n",
    "bitcoin = requests.get(\"https://api.coindesk.com/v1/bpi/historical/close.json?start=\"+starttime+\"&end=\"+endtime)\n",
    "news = requests.get(\"https://newsapi.org/v2/everything?q=bitcoin&from=\"+starttime+\"&to=\"+endtime+\"&sortBy=publishedAt&language=en&apiKey=b3aae8a2a9f34d82ae214aea72d0f2b6\")\n",
    "\n",
    "bitcoin_kv = bitcoin.json()['bpi']\n",
    "for k,v in bitcoin_kv.items():\n",
    "    kv_message = {\"date\":k, \"price\":v, \"type\":\"bitcoin\"}\n",
    "    producer.send(\"bitcoin\",kv_message)\n",
    "    print(kv_message)\n",
    "\n",
    "for i in news.json()[\"articles\"]:\n",
    "    if i['title'] != None:\n",
    "        # ------- sentiment score -----------\n",
    "        sentiment_score = vader.polarity_scores(i['title'])[\"compound\"]\n",
    "        sentiment_score_digits = f'{sentiment_score:.4f}'\n",
    "        kv = {\"date\":starttime, \"sentiment\":str(sentiment_score_digits), \"title\":i['title'],\"type\":\"news\"}\n",
    "        producer.send(\"news\",kv)\n",
    "        print(kv)\n",
    "    break"
   ]
  },
  {
   "cell_type": "markdown",
   "id": "20a4457a-e454-4639-b84b-bb9c1ef46e7a",
   "metadata": {},
   "source": [
    "## When gathering training set:\n",
    "\n",
    "```python\n",
    "# To gather training set\n",
    "# Send news/bitcoin price until today to kafka\n",
    "\n",
    "historical_days = 7\n",
    "\n",
    "\n",
    "for day in historical_days(3):\n",
    "    starttime = (datetime.datetime.now() - datetime.timedelta(days=2*day+1)).strftime(\"%Y-%m-%d\")\n",
    "    endtime =(datetime.datetime.now() - datetime.timedelta(days=2*day)).strftime(\"%Y-%m-%d\")\n",
    "    \n",
    "    print(starttime)\n",
    "    print(endtime)\n",
    "    \n",
    "    bitcoin = requests.get(\"https://api.coindesk.com/v1/bpi/historical/close.json?start=\"+starttime+\"&end=\"+endtime)\n",
    "    bitcoin_kv = bitcoin.json()['bpi']\n",
    "    for k,v in bitcoin_kv.items():\n",
    "        kv_message = {\"date\":k, \"price\":v, \"type\":\"bitcoin\"}\n",
    "        producer.send(\"bitcoin\",kv_message)\n",
    "        print(kv_message)\n",
    "        \n",
    "    news = requests.get(\"https://newsapi.org/v2/everything?q=bitcoin&from=\"+starttime+\"&to=\"+endtime+\"&sortBy=publishedAt&language=en&apiKey=b3aae8a2a9f34d82ae214aea72d0f2b6\")\n",
    "    for i in news.json()[\"articles\"]:\n",
    "        if i['title'] != None:\n",
    "\n",
    "            # ------- sentiment score -----------\n",
    "            sentiment_score = vader.polarity_scores(i['title'])[\"compound\"]\n",
    "            sentiment_score_digits = f'{sentiment_score:.4f}'\n",
    "            kv = {\"date\":starttime, \"sentiment\":str(sentiment_score_digits), \"title\":i['title'],\"type\":\"news\"}\n",
    "            producer.send(\"news\",kv)\n",
    "            print(kv)\n",
    "\n",
    "    print(\"-\"*30)\n",
    "```"
   ]
  }
 ],
 "metadata": {
  "kernelspec": {
   "display_name": "dic",
   "language": "python",
   "name": "dic"
  },
  "language_info": {
   "codemirror_mode": {
    "name": "ipython",
    "version": 3
   },
   "file_extension": ".py",
   "mimetype": "text/x-python",
   "name": "python",
   "nbconvert_exporter": "python",
   "pygments_lexer": "ipython3",
   "version": "3.7.11"
  }
 },
 "nbformat": 4,
 "nbformat_minor": 5
}
